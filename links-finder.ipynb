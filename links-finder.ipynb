{
 "cells": [
  {
   "cell_type": "code",
   "execution_count": 47,
   "metadata": {},
   "outputs": [
    {
     "name": "stdout",
     "output_type": "stream",
     "text": [
      "Requirement already satisfied: requests in ./.venv/lib/python3.11/site-packages (2.32.3)\n",
      "Requirement already satisfied: charset-normalizer<4,>=2 in ./.venv/lib/python3.11/site-packages (from requests) (3.3.2)\n",
      "Requirement already satisfied: idna<4,>=2.5 in ./.venv/lib/python3.11/site-packages (from requests) (3.7)\n",
      "Requirement already satisfied: urllib3<3,>=1.21.1 in ./.venv/lib/python3.11/site-packages (from requests) (2.2.1)\n",
      "Requirement already satisfied: certifi>=2017.4.17 in ./.venv/lib/python3.11/site-packages (from requests) (2024.2.2)\n",
      "Note: you may need to restart the kernel to use updated packages.\n",
      "Requirement already satisfied: beautifulsoup4 in ./.venv/lib/python3.11/site-packages (4.12.3)\n",
      "Requirement already satisfied: soupsieve>1.2 in ./.venv/lib/python3.11/site-packages (from beautifulsoup4) (2.5)\n",
      "Note: you may need to restart the kernel to use updated packages.\n"
     ]
    }
   ],
   "source": [
    "%pip install requests\n",
    "%pip install beautifulsoup4"
   ]
  },
  {
   "cell_type": "code",
   "execution_count": 48,
   "metadata": {},
   "outputs": [],
   "source": [
    "import requests\n",
    "from bs4 import BeautifulSoup"
   ]
  },
  {
   "cell_type": "markdown",
   "metadata": {},
   "source": [
    "    1. Accessing Main Website  "
   ]
  },
  {
   "cell_type": "code",
   "execution_count": 49,
   "metadata": {},
   "outputs": [],
   "source": [
    "r = requests.get(url=\"https://wp.ovptl.uci.edu/sop/\", timeout=10)\n",
    "soup = BeautifulSoup(r.text, \"html.parser\")"
   ]
  },
  {
   "cell_type": "markdown",
   "metadata": {},
   "source": [
    "    2. Getting all the websites on that page."
   ]
  },
  {
   "cell_type": "markdown",
   "metadata": {},
   "source": [
    "        a. Initializing the \"all_links\" set"
   ]
  },
  {
   "cell_type": "code",
   "execution_count": 50,
   "metadata": {},
   "outputs": [],
   "source": [
    "all_links = set()"
   ]
  },
  {
   "cell_type": "code",
   "execution_count": 52,
   "metadata": {},
   "outputs": [],
   "source": [
    "def get_all_links_recursive(link_set:list=None, index:int=0):\n",
    "    global all_links\n",
    "\n",
    "    if not link_set:\n",
    "        raise ValueError(\"Specify a list\")\n",
    "\n",
    "    # loop through the links in the set\n",
    "    for link in link_set:\n",
    "        try:\n",
    "            # access the website\n",
    "            r = requests.get(link, timeout=10)\n",
    "            soup = BeautifulSoup(r.text, \"html.parser\")\n",
    "\n",
    "            # get all the links on the website\n",
    "            links = [link.get(\"href\") for link in soup.find_all('a')]\n",
    "\n",
    "            # see the total length of the all_links set\n",
    "            total_set_length = len(all_links)\n",
    "\n",
    "            # add new links to the set\n",
    "            all_links.update(links)\n",
    "\n",
    "            # see the new length and if it has changed from new scrape\n",
    "            d_set = abs(total_set_length - len(all_links))\n",
    "            if (d_set > 0):\n",
    "                # create a list about the all_links and send to recursive function if it is under the scholars.uci.edu website\n",
    "                all_links_list = list(all_links)\n",
    "                new_list = [link for link in all_links_list[-d_set:] if (\"scholars.uci.edu\" in link)]\n",
    "\n",
    "                get_all_links_recursive(new_list, index + 1)\n",
    "            else:\n",
    "                break\n",
    "        except Exception as e:\n",
    "            print(\"Failed to process link {link}: {e}\")"
   ]
  },
  {
   "cell_type": "code",
   "execution_count": 53,
   "metadata": {},
   "outputs": [],
   "source": [
    "get_all_links_recursive([\"https://wp.ovptl.uci.edu/sop/\"])"
   ]
  },
  {
   "cell_type": "code",
   "execution_count": 57,
   "metadata": {},
   "outputs": [
    {
     "name": "stdout",
     "output_type": "stream",
     "text": [
      "http://www.bmifoundation.org/\n",
      "https://wp.ovptl.uci.edu/sop/\n",
      "https://knight-hennessy.stanford.edu/\n",
      "https://www.rotary.org/myrotary/en/get-involved/exchange-ideas/peace-fellowships\n",
      "http://www.smithsonianofi.com/internship-opportunities/\n",
      "http://adaedfund.org/programs/galbraith-fellows/\n",
      "http://info.parkerdewey.com/uci\n",
      "https://www.facebook.com/ucisop/\n",
      "http://dtei.uci.edu/\n",
      "https://twitter.com/UCISOP\n",
      "https://docs.google.com/spreadsheets/d/1TbXJG3A61xc_f4O5o525lkVEW6lyT3YqQ48n7jE-P4M/edit#gid=175473092\n",
      "http://www.humanityinaction.org/\n",
      "https://scholarships.uncf.org/\n",
      "https://www.fulbright.ca/programs/killam-fellowships/americans/eligibility\n",
      "https://www.arenastage.org/education/fellows-and-interns/\n",
      "https://www.fulbright.ca/programs/killam-fellowships/americans/how-to-apply\n",
      "http://phibetakappa.uci.edu/\n",
      "https://sec.due.uci.edu/\n",
      "/sop/accessibility/\n",
      "http://connect.uci.edu/Scholarship-Opportunities-Program\n",
      "http://www.scfta.org/Engage-and-Learn/Internships.aspx\n",
      "http://sites.nationalacademies.org/pga/fordfellowships/\n",
      "http://www.phdreamers.org/resources/\n",
      "https://careers.microsoft.com/students/scholarships\n",
      "mailto:kalama@uci.edu\n",
      "http://www.onassis.gr/en/scholarships-greeks.php\n",
      "http://www.jkcf.org/scholarship-programs/undergraduate-transfer/\n",
      "http://sites.uci.edu/soparchive/\n",
      "https://home.due.uci.edu/news/celebrating-30-years-of-fulbright-success-uci-named-inaugural-fulbright-hsi-leader/\n",
      "https://seg.org/Scholarships\n",
      "https://www.idealist.org/en/\n",
      "mailto:info@fulbright.ca\n",
      "https://www.daad.de/rise/en/\n",
      "http://www.chevening.org/\n",
      "/sop/privacy/\n",
      "http://foreign.fulbrightonline.org/\n",
      "http://universityofcalifornia.edu/\n",
      "http://cscuk.dfid.gov.uk/apply/\n",
      "https://www.nationalgridus.com/Our-Company/Community-Presence/The-Samuel-Huntington-Public-Service-Award\n",
      "http://www.dekarman.org/\n",
      "http://www.greatmindsinstem.org/BookingRetrieve.aspx?ID=82841\n",
      "http://www.eliewieselfoundation.org/entercontest.aspx\n",
      "http://en.sipiapa.org/contenidos/want-a-scholarship.html\n",
      "http://yenchingacademy.org/\n",
      "https://www.fulbright.ca/programs/killam-fellowships/americans/award-provisions\n",
      "http://www.straussfoundation.org/\n",
      "http://www.mayo.edu/mgs/programs/summer-undergraduate-research-fellowship\n",
      "http://www.oas.org/en/scholarships/\n",
      "http://www.rhodeshouse.ox.ac.uk/\n",
      "http://www.uci.edu/\n",
      "http://faa.illinois.edu/kate_neal_kinley_memorial_fellowship\n",
      "http://roybal-allard.house.gov/uploadedfiles/scholarships_student_resource_guide_2013.pdf\n",
      "mailto:scholars@uci.edu\n",
      "http://www.htsfund.org/guidelines.html\n",
      "http://www.echoinggreen.org/fellowship\n",
      "https://uci.edu/copyright/\n",
      "http://www.unesco.org/new/en/fellowships/\n",
      "https://www.daad.de/en/\n",
      "http://home.due.uci.edu/\n",
      "http://www.amscan.org/grants_scandinavians.html\n",
      "https://summer.uci.edu/\n",
      "https://ppiaprogram.org/undergrad/jsi/\n",
      "http://www.maldef.org/assets/pdf/1415_MALDEF_Scholarship.pdf\n",
      "http://mandelarhodes.org/the-scholarship/apply/\n",
      "http://ovptl.uci.edu/news/sop-calls-for-faculty-mentors/\n",
      "http://web.worldbank.org/WBSITE/EXTERNAL/WBI/EXTWBISFP/EXTJJWBGSP/0,,contentMDK:20276784~menuPK:551652~pagePK:64168445~piPK:64168309~theSitePK:551644,00.html\n",
      "https://campusgroups.uci.edu/SOP/rsvp_boot?id=1933664\n",
      "http://dreamers.uci.edu/scholarships/\n",
      "http://www.canoncollins.org.uk/scholarships.html\n",
      "http://www.ertegun.ox.ac.uk/\n",
      "https://phibetakappa.uci.edu/\n",
      "http://www.sbsny.org/sbs_scholarship_programs.html\n",
      "https://secure.give.uci.edu/phibetakappa\n",
      "http://www.charleskochinstitute.org/koch-fellow-program/\n",
      "https://chci.org/\n",
      "http://cty.jhu.edu/jobs/summer/\n",
      "http://www.nickwriting.com/\n",
      "http://home.due.uci.edu/news/sop-calls-for-faculty-mentors/\n",
      "https://docs.google.com/forms/d/e/1FAIpQLSdz8cQecmS6VLnmzpd-xnv6Y7N-hi3AWCA8f-mLIl-kFWgyEQ/viewform\n",
      "http://www.oscars.org/saa\n",
      "http://newleaderscholarship.org/apply/\n",
      "http://www.amgenscholars.com/japan-program\n",
      "http://scoville.org/\n",
      "http://blumcenter.uci.edu/students/innovation/\n",
      "http://bit.ly/uwdDEEPresources\n",
      "http://csis.org/about-us/internships\n",
      "#\n",
      "https://www.instagram.com/ucischolars/\n",
      "https://drive.google.com/file/d/1oeRyNzgQ9DyrAHZZ7oQRjxjF6v9ipmSP/view?usp=sharing\n",
      "http://www.opensocietyfoundations.org/grants\n",
      "mailto:ambarrag@uci.edu\n",
      "http://onf.fsu.edu/Fellowships/By-Identity\n",
      "http://www.davisputter.org/\n",
      "http://www.worldbank.org/en/programs/scholarships\n",
      "http://www.collegesuccessfoundation.org/wa/students/leadership1000/eligibility\n",
      "http://shop.nordstrom.com/c/nordstrom-cares-scholarship\n",
      "https://forms.gle/1de4R5ipULwwH3kV6\n",
      "http://www.macdowellcolony.org/about.html\n",
      "https://secure.give.uci.edu/donation/?COA1=004863&COA2\n",
      "https://www.linkedin.com/company/uci-sop/\n"
     ]
    }
   ],
   "source": [
    "for link in all_links:\n",
    "    if \"scholars.uci.edu\" not in link:\n",
    "        print(link)"
   ]
  },
  {
   "cell_type": "code",
   "execution_count": 60,
   "metadata": {},
   "outputs": [
    {
     "data": {
      "text/plain": [
       "403"
      ]
     },
     "execution_count": 60,
     "metadata": {},
     "output_type": "execute_result"
    }
   ],
   "source": [
    "r_new = requests.get(url=\"http://adaedfund.org/programs/galbraith-fellows/\")\n",
    "r_new.status_code"
   ]
  },
  {
   "cell_type": "code",
   "execution_count": null,
   "metadata": {},
   "outputs": [],
   "source": []
  }
 ],
 "metadata": {
  "kernelspec": {
   "display_name": ".venv",
   "language": "python",
   "name": "python3"
  },
  "language_info": {
   "codemirror_mode": {
    "name": "ipython",
    "version": 3
   },
   "file_extension": ".py",
   "mimetype": "text/x-python",
   "name": "python",
   "nbconvert_exporter": "python",
   "pygments_lexer": "ipython3",
   "version": "3.11.8"
  }
 },
 "nbformat": 4,
 "nbformat_minor": 2
}
