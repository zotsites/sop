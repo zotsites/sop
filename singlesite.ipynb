{
 "cells": [
  {
   "cell_type": "code",
   "execution_count": 1,
   "metadata": {},
   "outputs": [],
   "source": [
    "import requests\n",
    "from bs4 import BeautifulSoup"
   ]
  },
  {
   "cell_type": "code",
   "execution_count": 7,
   "metadata": {},
   "outputs": [],
   "source": [
    "r = requests.get(\n",
    "    url=\"https://scholars.uci.edu/2021/12/21/2020-2021-scholarship-recipients/\", timeout=10)\n",
    "soup = BeautifulSoup(r.content, \"html.parser\")\n",
    "for script in soup([\"script\", \"style\"]):\n",
    "    script.extract()"
   ]
  },
  {
   "cell_type": "code",
   "execution_count": 8,
   "metadata": {},
   "outputs": [
    {
     "data": {
      "text/plain": [
       "('# 2020-2021 Scholarship Recipients\\nCongratulations!\\n## Related Posts\\n[Winter 2022](https://scholars.uci.edu/2022/01/27/winter-2022/)\\n##  [Winter 2022](https://scholars.uci.edu/2022/01/27/winter-2022/)\\nJan 27, 2022\\n[SOP Location](https://scholars.uci.edu/2021/12/21/sop-location/)\\n##  [SOP Location](https://scholars.uci.edu/2021/12/21/sop-location/)\\nDec 21, 2021\\nLocated in the Student Excellence Center - 5th Floor of the Science Library. We ask all students do not bring any...\\n[Phi Beta Kappa](https://scholars.uci.edu/2021/12/21/phi-beta-kappa/)\\n##  [Phi Beta Kappa](https://scholars.uci.edu/2021/12/21/phi-beta-kappa/)\\nDec 21, 2021\\nPhi Beta Kappa is the nation’s oldest and most prestigious honors society. It celebrates and advocates excellence in...\\n**The Scholarship Opportunities Program**\\nSOP advises competitive UCI undergraduate candidates in applying for prestigious merit scholarships.\\nStudent Excellence Center  \\n544 Science Library  \\nIrvine, CA 92697-5695  \\n[scholars@uci.edu](mailto:scholars@uci.edu)  \\n(949) 824-3853  \\n\\n**Hours of Operation**  \\nMonday – Friday\\n10AM-12PM & 1-3PM\\n[Give Today](https://secure.give.uci.edu/phibetakappa)\\n  * [Follow](https://www.facebook.com/ucisop/ \"Follow on Facebook\")\\n  * [Follow](https://www.instagram.com/ucischolars/ \"Follow on Instagram\")\\n  * [Follow](https://twitter.com/UCISOP \"Follow on X\")\\n  * [Follow](https://www.linkedin.com/company/uci-sop/ \"Follow on LinkedIn\")\\n\\n\\n[Division of Undergraduate Education](http://home.due.uci.edu/)  \\n[Division of Teaching Excellence and Innovation](http://dtei.uci.edu/)  \\n[Division of Summer Session](https://summer.uci.edu/)  \\n[UC Irvine Homepage  \\n](http://www.uci.edu/)[University of California](http://universityofcalifornia.edu/)\\n[Privacy Notice](/sop/privacy/)  \\n[Accessibility](/sop/accessibility/)  \\n[© 2022 UC Regent](https://uci.edu/copyright/)\\n',\n",
       " {'title': '2020-2021 Scholarship Recipients | SOP | Scholarship Opportunities Program',\n",
       "  'url': 'https://scholars.uci.edu/2023/05/31/2023-breakfast-of-champions/',\n",
       "  'description': '2020-2021 Scholarship Recipients | SOP | Scholarship Opportunities Program',\n",
       "  'keywords': ''})"
      ]
     },
     "execution_count": 8,
     "metadata": {},
     "output_type": "execute_result"
    }
   ],
   "source": [
    "import html2text\n",
    "\n",
    "main_soup = soup.find(id=\"et-main-area\")\n",
    "\n",
    "html = str(main_soup)\n",
    "html2text_instance = html2text.HTML2Text()\n",
    "html2text_instance.images_to_alt = True\n",
    "html2text_instance.body_width = 0\n",
    "html2text_instance.single_line_break = True\n",
    "text = html2text_instance.handle(html)\n",
    "\n",
    "\n",
    "# Extract page metadata\n",
    "try:\n",
    "    page_title = soup.title.string.strip()\n",
    "except:\n",
    "    page_title = url.path[1:].replace(\"/\", \"-\")\n",
    "meta_description = soup.find(\"meta\", attrs={\"name\": \"description\"})\n",
    "meta_keywords = soup.find(\"meta\", attrs={\"name\": \"keywords\"})\n",
    "if meta_description:\n",
    "    description = meta_description.get(\"content\")\n",
    "else:\n",
    "    description = page_title\n",
    "if meta_keywords:\n",
    "    meta_keywords = meta_description.get(\"content\")\n",
    "else:\n",
    "    meta_keywords = \"\"\n",
    "\n",
    "metadata = {'title': page_title,\n",
    "            'url': \"https://scholars.uci.edu/2023/05/31/2023-breakfast-of-champions/\",\n",
    "            'description': description,\n",
    "            'keywords': meta_keywords}\n",
    "text, metadata"
   ]
  }
 ],
 "metadata": {
  "kernelspec": {
   "display_name": ".venv",
   "language": "python",
   "name": "python3"
  },
  "language_info": {
   "codemirror_mode": {
    "name": "ipython",
    "version": 3
   },
   "file_extension": ".py",
   "mimetype": "text/x-python",
   "name": "python",
   "nbconvert_exporter": "python",
   "pygments_lexer": "ipython3",
   "version": "3.11.8"
  }
 },
 "nbformat": 4,
 "nbformat_minor": 2
}
